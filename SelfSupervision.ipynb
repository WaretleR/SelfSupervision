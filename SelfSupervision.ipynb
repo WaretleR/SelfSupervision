{
 "cells": [
  {
   "cell_type": "code",
   "execution_count": 6,
   "metadata": {},
   "outputs": [
    {
     "name": "stderr",
     "output_type": "stream",
     "text": [
      "C:\\Users\\Alexander\\.conda\\envs\\keras-gpu\\lib\\site-packages\\tensorflow\\python\\framework\\dtypes.py:526: FutureWarning: Passing (type, 1) or '1type' as a synonym of type is deprecated; in a future version of numpy, it will be understood as (type, (1,)) / '(1,)type'.\n",
      "  _np_qint8 = np.dtype([(\"qint8\", np.int8, 1)])\n",
      "C:\\Users\\Alexander\\.conda\\envs\\keras-gpu\\lib\\site-packages\\tensorflow\\python\\framework\\dtypes.py:527: FutureWarning: Passing (type, 1) or '1type' as a synonym of type is deprecated; in a future version of numpy, it will be understood as (type, (1,)) / '(1,)type'.\n",
      "  _np_quint8 = np.dtype([(\"quint8\", np.uint8, 1)])\n",
      "C:\\Users\\Alexander\\.conda\\envs\\keras-gpu\\lib\\site-packages\\tensorflow\\python\\framework\\dtypes.py:528: FutureWarning: Passing (type, 1) or '1type' as a synonym of type is deprecated; in a future version of numpy, it will be understood as (type, (1,)) / '(1,)type'.\n",
      "  _np_qint16 = np.dtype([(\"qint16\", np.int16, 1)])\n",
      "C:\\Users\\Alexander\\.conda\\envs\\keras-gpu\\lib\\site-packages\\tensorflow\\python\\framework\\dtypes.py:529: FutureWarning: Passing (type, 1) or '1type' as a synonym of type is deprecated; in a future version of numpy, it will be understood as (type, (1,)) / '(1,)type'.\n",
      "  _np_quint16 = np.dtype([(\"quint16\", np.uint16, 1)])\n",
      "C:\\Users\\Alexander\\.conda\\envs\\keras-gpu\\lib\\site-packages\\tensorflow\\python\\framework\\dtypes.py:530: FutureWarning: Passing (type, 1) or '1type' as a synonym of type is deprecated; in a future version of numpy, it will be understood as (type, (1,)) / '(1,)type'.\n",
      "  _np_qint32 = np.dtype([(\"qint32\", np.int32, 1)])\n",
      "C:\\Users\\Alexander\\.conda\\envs\\keras-gpu\\lib\\site-packages\\tensorflow\\python\\framework\\dtypes.py:535: FutureWarning: Passing (type, 1) or '1type' as a synonym of type is deprecated; in a future version of numpy, it will be understood as (type, (1,)) / '(1,)type'.\n",
      "  np_resource = np.dtype([(\"resource\", np.ubyte, 1)])\n"
     ]
    }
   ],
   "source": [
    "import numpy as np\n",
    "import os\n",
    "import random\n",
    "from matplotlib import pyplot as plt\n",
    "import tensorflow as tf\n",
    "from tensorflow.keras import losses, layers, models"
   ]
  },
  {
   "cell_type": "code",
   "execution_count": 7,
   "metadata": {},
   "outputs": [],
   "source": [
    "def unpickle(file):\n",
    "    import pickle\n",
    "    with open(file, 'rb') as fo:\n",
    "        dict = pickle.load(fo, encoding='bytes')\n",
    "    return dict"
   ]
  },
  {
   "cell_type": "code",
   "execution_count": 8,
   "metadata": {},
   "outputs": [],
   "source": [
    "files = []\n",
    "for i in range(6):\n",
    "    name =  ''\n",
    "    if i == 5:\n",
    "        name = os.getcwd() + '\\\\cifar-10-batches-py\\\\test_batch'\n",
    "    else:\n",
    "        name = os.getcwd() + '\\\\cifar-10-batches-py\\\\data_batch_' + str(i + 1)\n",
    "    files.append(unpickle(name))"
   ]
  },
  {
   "cell_type": "code",
   "execution_count": 9,
   "metadata": {},
   "outputs": [],
   "source": [
    "rotations_num = 4\n",
    "saved_name = 'selfsupervised'\n",
    "selfsupervised_epochs = 20\n",
    "selfsupervised_batch_size = 32\n",
    "supervised_epochs = 20\n",
    "supervised_batch_size = 32\n",
    "supervised_trainval_ratio = 1. / 6 #1/6 is implied in CIFAR-10"
   ]
  },
  {
   "cell_type": "code",
   "execution_count": 10,
   "metadata": {},
   "outputs": [],
   "source": [
    "combined_data = np.zeros((60000 * rotations_num, 32, 32, 3), dtype = np.float32)\n",
    "combined_labels = np.zeros((60000 * rotations_num, rotations_num), dtype = np.float32)\n",
    "true_labels = np.zeros((60000, 10), dtype = np.float32)"
   ]
  },
  {
   "cell_type": "code",
   "execution_count": 11,
   "metadata": {},
   "outputs": [],
   "source": [
    "for i in range(len(files)):\n",
    "    data_len = files[i][b\"data\"].shape[0]\n",
    "    for j in range(data_len):\n",
    "        row = files[i][b\"data\"][j]\n",
    "        for k in range(files[i][b\"data\"].shape[1]):\n",
    "            combined_data[data_len * i + j][(k & 1023) >> 5][k & 31][k >> 10] = row[k] / 255.\n",
    "        true_labels[data_len * i + j][files[i][b\"labels\"][j]] = 1.\n",
    "        combined_labels[data_len * i + j] = 0\n",
    "        for t in range(1, 4):\n",
    "            combined_data[60000 * t + data_len * i + j] = np.rot90(combined_data[data_len * i + j], t)\n",
    "            combined_labels[60000 * t + data_len * i + j][t] = 1."
   ]
  },
  {
   "cell_type": "code",
   "execution_count": 14,
   "metadata": {},
   "outputs": [
    {
     "data": {
      "image/png": "[encoded data removed]",
      "text/plain": [
       "<Figure size 432x288 with 1 Axes>"
      ]
     },
     "metadata": {
      "needs_background": "light"
     },
     "output_type": "display_data"
    }
   ],
   "source": [
    "plt.imshow(combined_data[random.randint(0, 49999)])\n",
    "plt.show()"
   ]
  },
  {
   "cell_type": "code",
   "execution_count": 8,
   "metadata": {
    "scrolled": true
   },
   "outputs": [
    {
     "name": "stdout",
     "output_type": "stream",
     "text": [
      "[0. 1. 0. 0.]\n"
     ]
    }
   ],
   "source": [
    "print(combined_labels[99009])"
   ]
  },
  {
   "cell_type": "code",
   "execution_count": 12,
   "metadata": {},
   "outputs": [],
   "source": [
    "def plot_training(**kwargs):\n",
    "    for k, v in kwargs.items():\n",
    "        if k != 'name':\n",
    "            plt.plot(v, label=k)\n",
    "    plt.grid(True)\n",
    "    plt.title(kwargs['name'])\n",
    "    plt.xlabel('Epoch')\n",
    "    plt.ylabel('Accuracy')\n",
    "    plt.ylim([0.5, 1])\n",
    "    plt.legend(loc='lower right')"
   ]
  },
  {
   "cell_type": "code",
   "execution_count": 13,
   "metadata": {},
   "outputs": [],
   "source": [
    "def get_feat_model():\n",
    "    inputs = tf.keras.Input((32, 32, 3))\n",
    "    x = layers.Conv2D(32, (3, 3), activation='relu')(inputs)\n",
    "    x = layers.BatchNormalization()(x)\n",
    "    x = layers.MaxPooling2D((2, 2))(x)\n",
    "    x = layers.Conv2D(64, (3, 3), activation='relu')(x)\n",
    "    x = layers.BatchNormalization()(x)\n",
    "    x = layers.MaxPooling2D((2, 2))(x)\n",
    "    x = layers.Conv2D(64, (3, 3), activation='relu')(x)\n",
    "    x = layers.BatchNormalization()(x)\n",
    "    \n",
    "    x = layers.Flatten()(x)\n",
    "    x = layers.Dropout(0.5)(x)\n",
    "    x = layers.Dense(128, activation='relu')(x)\n",
    "    x = layers.BatchNormalization()(x)\n",
    "    x = layers.Dense(rotations_num, activation = 'softmax')(x)\n",
    "    \n",
    "    return tf.keras.Model(inputs = inputs, outputs = x)"
   ]
  },
  {
   "cell_type": "code",
   "execution_count": 14,
   "metadata": {},
   "outputs": [],
   "source": [
    "def train_feat():\n",
    "    model = get_feat_model()\n",
    "    model.summary()\n",
    "    model.compile(optimizer='adam', loss = 'categorical_crossentropy', metrics=['accuracy'])\n",
    "    log = model.fit(combined_data, combined_labels, \n",
    "                    epochs = selfsupervised_epochs, batch_size = selfsupervised_batch_size, shuffle = True)\n",
    "    model.save(saved_name)\n",
    "    return log"
   ]
  },
  {
   "cell_type": "code",
   "execution_count": 12,
   "metadata": {
    "scrolled": false
   },
   "outputs": [
    {
     "name": "stdout",
     "output_type": "stream",
     "text": [
      "WARNING:tensorflow:From C:\\Users\\Alexander\\.conda\\envs\\keras-gpu\\lib\\site-packages\\tensorflow\\python\\ops\\resource_variable_ops.py:435: colocate_with (from tensorflow.python.framework.ops) is deprecated and will be removed in a future version.\n",
      "Instructions for updating:\n",
      "Colocations handled automatically by placer.\n",
      "WARNING:tensorflow:From C:\\Users\\Alexander\\.conda\\envs\\keras-gpu\\lib\\site-packages\\tensorflow\\python\\keras\\layers\\core.py:143: calling dropout (from tensorflow.python.ops.nn_ops) with keep_prob is deprecated and will be removed in a future version.\n",
      "Instructions for updating:\n",
      "Please use `rate` instead of `keep_prob`. Rate should be set to `rate = 1 - keep_prob`.\n",
      "_________________________________________________________________\n",
      "Layer (type)                 Output Shape              Param #   \n",
      "=================================================================\n",
      "input_1 (InputLayer)         (None, 32, 32, 3)         0         \n",
      "_________________________________________________________________\n",
      "conv2d (Conv2D)              (None, 30, 30, 32)        896       \n",
      "_________________________________________________________________\n",
      "batch_normalization_v1 (Batc (None, 30, 30, 32)        128       \n",
      "_________________________________________________________________\n",
      "max_pooling2d (MaxPooling2D) (None, 15, 15, 32)        0         \n",
      "_________________________________________________________________\n",
      "conv2d_1 (Conv2D)            (None, 13, 13, 64)        18496     \n",
      "_________________________________________________________________\n",
      "batch_normalization_v1_1 (Ba (None, 13, 13, 64)        256       \n",
      "_________________________________________________________________\n",
      "max_pooling2d_1 (MaxPooling2 (None, 6, 6, 64)          0         \n",
      "_________________________________________________________________\n",
      "conv2d_2 (Conv2D)            (None, 4, 4, 64)          36928     \n",
      "_________________________________________________________________\n",
      "batch_normalization_v1_2 (Ba (None, 4, 4, 64)          256       \n",
      "_________________________________________________________________\n",
      "flatten (Flatten)            (None, 1024)              0         \n",
      "_________________________________________________________________\n",
      "dropout (Dropout)            (None, 1024)              0         \n",
      "_________________________________________________________________\n",
      "dense (Dense)                (None, 128)               131200    \n",
      "_________________________________________________________________\n",
      "batch_normalization_v1_3 (Ba (None, 128)               512       \n",
      "_________________________________________________________________\n",
      "dense_1 (Dense)              (None, 4)                 516       \n",
      "=================================================================\n",
      "Total params: 189,188\n",
      "Trainable params: 188,612\n",
      "Non-trainable params: 576\n",
      "_________________________________________________________________\n",
      "WARNING:tensorflow:From C:\\Users\\Alexander\\.conda\\envs\\keras-gpu\\lib\\site-packages\\tensorflow\\python\\ops\\math_ops.py:3066: to_int32 (from tensorflow.python.ops.math_ops) is deprecated and will be removed in a future version.\n",
      "Instructions for updating:\n",
      "Use tf.cast instead.\n",
      "Epoch 1/20\n",
      "240000/240000 [==============================] - 38s 158us/sample - loss: 0.5791 - acc: 0.4928\n",
      "Epoch 2/20\n",
      "240000/240000 [==============================] - 36s 150us/sample - loss: 0.4658 - acc: 0.5511\n",
      "Epoch 3/20\n",
      "240000/240000 [==============================] - 35s 145us/sample - loss: 0.4274 - acc: 0.5712\n",
      "Epoch 4/20\n",
      "240000/240000 [==============================] - 37s 153us/sample - loss: 0.4017 - acc: 0.5831\n",
      "Epoch 5/20\n",
      "240000/240000 [==============================] - 35s 145us/sample - loss: 0.3845 - acc: 0.5914\n",
      "Epoch 6/20\n",
      "240000/240000 [==============================] - 37s 154us/sample - loss: 0.3705 - acc: 0.5971\n",
      "Epoch 7/20\n",
      "240000/240000 [==============================] - 36s 151us/sample - loss: 0.3604 - acc: 0.6018\n",
      "Epoch 8/20\n",
      "240000/240000 [==============================] - 35s 147us/sample - loss: 0.3491 - acc: 0.6067\n",
      "Epoch 9/20\n",
      "240000/240000 [==============================] - 35s 144us/sample - loss: 0.3429 - acc: 0.6094\n",
      "Epoch 10/20\n",
      "240000/240000 [==============================] - 35s 147us/sample - loss: 0.3359 - acc: 0.6129\n",
      "Epoch 11/20\n",
      "240000/240000 [==============================] - 36s 152us/sample - loss: 0.3302 - acc: 0.6158\n",
      "Epoch 12/20\n",
      "240000/240000 [==============================] - 36s 151us/sample - loss: 0.3247 - acc: 0.6180\n",
      "Epoch 13/20\n",
      "240000/240000 [==============================] - 36s 151us/sample - loss: 0.3198 - acc: 0.6202\n",
      "Epoch 14/20\n",
      "240000/240000 [==============================] - 35s 146us/sample - loss: 0.3156 - acc: 0.6229\n",
      "Epoch 15/20\n",
      "240000/240000 [==============================] - 36s 149us/sample - loss: 0.3122 - acc: 0.6237\n",
      "Epoch 16/20\n",
      "240000/240000 [==============================] - 35s 147us/sample - loss: 0.3065 - acc: 0.6262\n",
      "Epoch 17/20\n",
      "240000/240000 [==============================] - 37s 154us/sample - loss: 0.3056 - acc: 0.6260\n",
      "Epoch 18/20\n",
      "240000/240000 [==============================] - 37s 156us/sample - loss: 0.3013 - acc: 0.6285\n",
      "Epoch 19/20\n",
      "240000/240000 [==============================] - 39s 161us/sample - loss: 0.2990 - acc: 0.6289\n",
      "Epoch 20/20\n",
      "240000/240000 [==============================] - 37s 153us/sample - loss: 0.2957 - acc: 0.6309\n"
     ]
    }
   ],
   "source": [
    "log = train_feat()"
   ]
  },
  {
   "cell_type": "code",
   "execution_count": 15,
   "metadata": {},
   "outputs": [
    {
     "data": {
      "image/png": "[encoded data removed]",
      "text/plain": [
       "<Figure size 432x288 with 1 Axes>"
      ]
     },
     "metadata": {
      "needs_background": "light"
     },
     "output_type": "display_data"
    }
   ],
   "source": [
    "plot_training(accuracy = log.history['acc'], name = 'Features')"
   ]
  },
  {
   "cell_type": "code",
   "execution_count": 22,
   "metadata": {},
   "outputs": [],
   "source": [
    "def get_cls_model():\n",
    "    model = tf.keras.models.load_model(saved_name)\n",
    "    x = model.get_layer('conv2d_2').output\n",
    "    x = layers.BatchNormalization()(x)\n",
    "    x = layers.Flatten()(x)\n",
    "    x = layers.Dropout(0.5)(x)\n",
    "    x = layers.Dense(512, activation='relu')(x)\n",
    "    x = layers.BatchNormalization()(x)\n",
    "    x = layers.Dropout(0.5)(x)\n",
    "    x = layers.Dense(64, activation='relu')(x)\n",
    "    x = layers.Dense(10, activation = 'softmax')(x)\n",
    "    return tf.keras.Model(inputs = model.input, outputs = x)"
   ]
  },
  {
   "cell_type": "code",
   "execution_count": 23,
   "metadata": {},
   "outputs": [],
   "source": [
    "def train_cls(train_features = True):\n",
    "    cls_model = get_cls_model()\n",
    "    cls_model.summary()\n",
    "    if not train_features:\n",
    "        for l in cls_model.layers[:-5]:\n",
    "            l.trainable = False\n",
    "    cls_model.compile(optimizer='adam', loss = 'categorical_crossentropy', metrics=['accuracy'])\n",
    "    cls_log = cls_model.fit(combined_data[:int(60000 * (1.0 - supervised_trainval_ratio))], \n",
    "                            true_labels[:int(60000 * (1.0 - supervised_trainval_ratio))], \n",
    "                            epochs = supervised_epochs, batch_size = supervised_batch_size, shuffle = True,\n",
    "                            validation_data = (combined_data[int(60000 * (1.0 - supervised_trainval_ratio)):60000], \n",
    "                                               true_labels[int(60000 * (1.0 - supervised_trainval_ratio)):60000]))\n",
    "    return cls_log"
   ]
  },
  {
   "cell_type": "code",
   "execution_count": 24,
   "metadata": {},
   "outputs": [
    {
     "name": "stdout",
     "output_type": "stream",
     "text": [
      "_________________________________________________________________\n",
      "Layer (type)                 Output Shape              Param #   \n",
      "=================================================================\n",
      "input_1 (InputLayer)         (None, 32, 32, 3)         0         \n",
      "_________________________________________________________________\n",
      "conv2d (Conv2D)              (None, 30, 30, 32)        896       \n",
      "_________________________________________________________________\n",
      "batch_normalization_v1 (Batc (None, 30, 30, 32)        128       \n",
      "_________________________________________________________________\n",
      "max_pooling2d (MaxPooling2D) (None, 15, 15, 32)        0         \n",
      "_________________________________________________________________\n",
      "conv2d_1 (Conv2D)            (None, 13, 13, 64)        18496     \n",
      "_________________________________________________________________\n",
      "batch_normalization_v1_1 (Ba (None, 13, 13, 64)        256       \n",
      "_________________________________________________________________\n",
      "max_pooling2d_1 (MaxPooling2 (None, 6, 6, 64)          0         \n",
      "_________________________________________________________________\n",
      "conv2d_2 (Conv2D)            (None, 4, 4, 64)          36928     \n",
      "_________________________________________________________________\n",
      "batch_normalization_v1_2 (Ba (None, 4, 4, 64)          256       \n",
      "_________________________________________________________________\n",
      "flatten_3 (Flatten)          (None, 1024)              0         \n",
      "_________________________________________________________________\n",
      "dropout_6 (Dropout)          (None, 1024)              0         \n",
      "_________________________________________________________________\n",
      "dense_9 (Dense)              (None, 512)               524800    \n",
      "_________________________________________________________________\n",
      "batch_normalization_v1_3 (Ba (None, 512)               2048      \n",
      "_________________________________________________________________\n",
      "dropout_7 (Dropout)          (None, 512)               0         \n",
      "_________________________________________________________________\n",
      "dense_10 (Dense)             (None, 64)                32832     \n",
      "_________________________________________________________________\n",
      "dense_11 (Dense)             (None, 10)                650       \n",
      "=================================================================\n",
      "Total params: 617,290\n",
      "Trainable params: 615,946\n",
      "Non-trainable params: 1,344\n",
      "_________________________________________________________________\n",
      "Train on 50000 samples, validate on 10000 samples\n",
      "Epoch 1/20\n",
      "50000/50000 [==============================] - 11s 214us/sample - loss: 1.3755 - acc: 0.5271 - val_loss: 1.0004 - val_acc: 0.6452\n",
      "Epoch 2/20\n",
      "50000/50000 [==============================] - 10s 193us/sample - loss: 1.0480 - acc: 0.6286 - val_loss: 0.8956 - val_acc: 0.6803\n",
      "Epoch 3/20\n",
      "50000/50000 [==============================] - 10s 193us/sample - loss: 0.9477 - acc: 0.6674 - val_loss: 0.8062 - val_acc: 0.7174\n",
      "Epoch 4/20\n",
      "50000/50000 [==============================] - 10s 195us/sample - loss: 0.8863 - acc: 0.6883 - val_loss: 0.7510 - val_acc: 0.7370\n",
      "Epoch 5/20\n",
      "50000/50000 [==============================] - 10s 195us/sample - loss: 0.8418 - acc: 0.7024 - val_loss: 0.7390 - val_acc: 0.7429\n",
      "Epoch 6/20\n",
      "50000/50000 [==============================] - 10s 191us/sample - loss: 0.8037 - acc: 0.7198 - val_loss: 0.7192 - val_acc: 0.7552\n",
      "Epoch 7/20\n",
      "50000/50000 [==============================] - 10s 194us/sample - loss: 0.7708 - acc: 0.7305 - val_loss: 0.7432 - val_acc: 0.7429\n",
      "Epoch 8/20\n",
      "50000/50000 [==============================] - 10s 199us/sample - loss: 0.7515 - acc: 0.7374 - val_loss: 0.6894 - val_acc: 0.7618\n",
      "Epoch 9/20\n",
      "50000/50000 [==============================] - 10s 191us/sample - loss: 0.7247 - acc: 0.7455 - val_loss: 0.6838 - val_acc: 0.7624\n",
      "Epoch 10/20\n",
      "50000/50000 [==============================] - 10s 210us/sample - loss: 0.7070 - acc: 0.7526 - val_loss: 0.6451 - val_acc: 0.7748\n",
      "Epoch 11/20\n",
      "50000/50000 [==============================] - 10s 195us/sample - loss: 0.6906 - acc: 0.7575 - val_loss: 0.6593 - val_acc: 0.7725\n",
      "Epoch 12/20\n",
      "50000/50000 [==============================] - 9s 188us/sample - loss: 0.6761 - acc: 0.7629 - val_loss: 0.6244 - val_acc: 0.7826\n",
      "Epoch 13/20\n",
      "50000/50000 [==============================] - 10s 195us/sample - loss: 0.6610 - acc: 0.7688 - val_loss: 0.6917 - val_acc: 0.7570\n",
      "Epoch 14/20\n",
      "50000/50000 [==============================] - 9s 190us/sample - loss: 0.6444 - acc: 0.7769 - val_loss: 0.6522 - val_acc: 0.7744\n",
      "Epoch 15/20\n",
      "50000/50000 [==============================] - 9s 186us/sample - loss: 0.6336 - acc: 0.7781 - val_loss: 0.6852 - val_acc: 0.7665\n",
      "Epoch 16/20\n",
      "50000/50000 [==============================] - 9s 179us/sample - loss: 0.6220 - acc: 0.7799 - val_loss: 0.6308 - val_acc: 0.7817\n",
      "Epoch 17/20\n",
      "50000/50000 [==============================] - 9s 183us/sample - loss: 0.6120 - acc: 0.7872 - val_loss: 0.6716 - val_acc: 0.7757\n",
      "Epoch 18/20\n",
      "50000/50000 [==============================] - 9s 185us/sample - loss: 0.6082 - acc: 0.7873 - val_loss: 0.6782 - val_acc: 0.7687\n",
      "Epoch 19/20\n",
      "50000/50000 [==============================] - 9s 183us/sample - loss: 0.5969 - acc: 0.7896 - val_loss: 0.7199 - val_acc: 0.7580\n",
      "Epoch 20/20\n",
      "50000/50000 [==============================] - 9s 183us/sample - loss: 0.5852 - acc: 0.7949 - val_loss: 0.6401 - val_acc: 0.7831\n"
     ]
    }
   ],
   "source": [
    "cls_train_features = train_cls(True)"
   ]
  },
  {
   "cell_type": "code",
   "execution_count": 25,
   "metadata": {
    "scrolled": false
   },
   "outputs": [
    {
     "name": "stdout",
     "output_type": "stream",
     "text": [
      "_________________________________________________________________\n",
      "Layer (type)                 Output Shape              Param #   \n",
      "=================================================================\n",
      "input_1 (InputLayer)         (None, 32, 32, 3)         0         \n",
      "_________________________________________________________________\n",
      "conv2d (Conv2D)              (None, 30, 30, 32)        896       \n",
      "_________________________________________________________________\n",
      "batch_normalization_v1 (Batc (None, 30, 30, 32)        128       \n",
      "_________________________________________________________________\n",
      "max_pooling2d (MaxPooling2D) (None, 15, 15, 32)        0         \n",
      "_________________________________________________________________\n",
      "conv2d_1 (Conv2D)            (None, 13, 13, 64)        18496     \n",
      "_________________________________________________________________\n",
      "batch_normalization_v1_1 (Ba (None, 13, 13, 64)        256       \n",
      "_________________________________________________________________\n",
      "max_pooling2d_1 (MaxPooling2 (None, 6, 6, 64)          0         \n",
      "_________________________________________________________________\n",
      "conv2d_2 (Conv2D)            (None, 4, 4, 64)          36928     \n",
      "_________________________________________________________________\n",
      "batch_normalization_v1_4 (Ba (None, 4, 4, 64)          256       \n",
      "_________________________________________________________________\n",
      "flatten_4 (Flatten)          (None, 1024)              0         \n",
      "_________________________________________________________________\n",
      "dropout_8 (Dropout)          (None, 1024)              0         \n",
      "_________________________________________________________________\n",
      "dense_12 (Dense)             (None, 512)               524800    \n",
      "_________________________________________________________________\n",
      "batch_normalization_v1_5 (Ba (None, 512)               2048      \n",
      "_________________________________________________________________\n",
      "dropout_9 (Dropout)          (None, 512)               0         \n",
      "_________________________________________________________________\n",
      "dense_13 (Dense)             (None, 64)                32832     \n",
      "_________________________________________________________________\n",
      "dense_14 (Dense)             (None, 10)                650       \n",
      "=================================================================\n",
      "Total params: 617,290\n",
      "Trainable params: 615,946\n",
      "Non-trainable params: 1,344\n",
      "_________________________________________________________________\n",
      "Train on 50000 samples, validate on 10000 samples\n",
      "Epoch 1/20\n",
      "50000/50000 [==============================] - 7s 142us/sample - loss: 1.4853 - acc: 0.4867 - val_loss: 4.6224 - val_acc: 0.4893\n",
      "Epoch 2/20\n",
      "50000/50000 [==============================] - 6s 128us/sample - loss: 1.2579 - acc: 0.5552 - val_loss: 4.6012 - val_acc: 0.4824\n",
      "Epoch 3/20\n",
      "50000/50000 [==============================] - 6s 128us/sample - loss: 1.1959 - acc: 0.5762 - val_loss: 4.6887 - val_acc: 0.4611\n",
      "Epoch 4/20\n",
      "50000/50000 [==============================] - 6s 128us/sample - loss: 1.1614 - acc: 0.5892 - val_loss: 4.3511 - val_acc: 0.4930\n",
      "Epoch 5/20\n",
      "50000/50000 [==============================] - 7s 137us/sample - loss: 1.1360 - acc: 0.5994 - val_loss: 4.6843 - val_acc: 0.4853\n",
      "Epoch 6/20\n",
      "50000/50000 [==============================] - 7s 148us/sample - loss: 1.1117 - acc: 0.6075 - val_loss: 4.3384 - val_acc: 0.5049\n",
      "Epoch 7/20\n",
      "50000/50000 [==============================] - 7s 135us/sample - loss: 1.1010 - acc: 0.6104 - val_loss: 3.8455 - val_acc: 0.5275\n",
      "Epoch 8/20\n",
      "50000/50000 [==============================] - 7s 133us/sample - loss: 1.0821 - acc: 0.6201 - val_loss: 3.9666 - val_acc: 0.5211\n",
      "Epoch 9/20\n",
      "50000/50000 [==============================] - 7s 145us/sample - loss: 1.0685 - acc: 0.6226 - val_loss: 3.9266 - val_acc: 0.5184\n",
      "Epoch 10/20\n",
      "50000/50000 [==============================] - 7s 144us/sample - loss: 1.0513 - acc: 0.6285 - val_loss: 3.7597 - val_acc: 0.5306\n",
      "Epoch 11/20\n",
      "50000/50000 [==============================] - 7s 131us/sample - loss: 1.0466 - acc: 0.6287 - val_loss: 3.6109 - val_acc: 0.5498\n",
      "Epoch 12/20\n",
      "50000/50000 [==============================] - 7s 137us/sample - loss: 1.0391 - acc: 0.6331 - val_loss: 3.7921 - val_acc: 0.5371\n",
      "Epoch 13/20\n",
      "50000/50000 [==============================] - 7s 142us/sample - loss: 1.0186 - acc: 0.6393 - val_loss: 4.3600 - val_acc: 0.5176\n",
      "Epoch 14/20\n",
      "50000/50000 [==============================] - 7s 139us/sample - loss: 1.0105 - acc: 0.6443 - val_loss: 4.1337 - val_acc: 0.5274\n",
      "Epoch 15/20\n",
      "50000/50000 [==============================] - 7s 130us/sample - loss: 1.0073 - acc: 0.6444 - val_loss: 3.6193 - val_acc: 0.5459\n",
      "Epoch 16/20\n",
      "50000/50000 [==============================] - 7s 138us/sample - loss: 0.9979 - acc: 0.6462 - val_loss: 3.8545 - val_acc: 0.5365\n",
      "Epoch 17/20\n",
      "50000/50000 [==============================] - 8s 151us/sample - loss: 0.9893 - acc: 0.6507 - val_loss: 3.8764 - val_acc: 0.5421\n",
      "Epoch 18/20\n",
      "50000/50000 [==============================] - 8s 160us/sample - loss: 0.9849 - acc: 0.6540 - val_loss: 3.7958 - val_acc: 0.5446\n",
      "Epoch 19/20\n",
      "50000/50000 [==============================] - 7s 138us/sample - loss: 0.9760 - acc: 0.6565 - val_loss: 4.1196 - val_acc: 0.5313\n",
      "Epoch 20/20\n",
      "50000/50000 [==============================] - 6s 129us/sample - loss: 0.9714 - acc: 0.6573 - val_loss: 3.7787 - val_acc: 0.5453\n"
     ]
    }
   ],
   "source": [
    "cls_no_train_features = train_cls(False)"
   ]
  },
  {
   "cell_type": "code",
   "execution_count": 26,
   "metadata": {},
   "outputs": [
    {
     "data": {
      "image/png": "[encoded data removed]",
      "text/plain": [
       "<Figure size 432x288 with 1 Axes>"
      ]
     },
     "metadata": {
      "needs_background": "light"
     },
     "output_type": "display_data"
    }
   ],
   "source": [
    "plot_training(name = 'Train accuracy',\n",
    "              fine_tuning_accuracy = cls_train_features.history['acc'],\n",
    "              feature_extracting_accuracy = cls_no_train_features.history['acc'])"
   ]
  },
  {
   "cell_type": "code",
   "execution_count": 27,
   "metadata": {},
   "outputs": [
    {
     "data": {
      "image/png": "[encoded data removed]",
      "text/plain": [
       "<Figure size 432x288 with 1 Axes>"
      ]
     },
     "metadata": {
      "needs_background": "light"
     },
     "output_type": "display_data"
    }
   ],
   "source": [
    "plot_training(name = 'Validation accuracy',\n",
    "              fine_tuning_accuracy = cls_train_features.history['val_acc'],\n",
    "              feature_extracting_accuracy = cls_no_train_features.history['val_acc'])"
   ]
  },
  {
   "cell_type": "code",
   "execution_count": null,
   "metadata": {},
   "outputs": [],
   "source": []
  }
 ],
 "metadata": {
  "kernelspec": {
   "display_name": "Python 3",
   "language": "python",
   "name": "python3"
  },
  "language_info": {
   "codemirror_mode": {
    "name": "ipython",
    "version": 3
   },
   "file_extension": ".py",
   "mimetype": "text/x-python",
   "name": "python",
   "nbconvert_exporter": "python",
   "pygments_lexer": "ipython3",
   "version": "3.6.9"
  }
 },
 "nbformat": 4,
 "nbformat_minor": 2
}
