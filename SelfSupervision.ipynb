{
 "cells": [
  {
   "cell_type": "code",
   "execution_count": 7,
   "metadata": {},
   "outputs": [],
   "source": [
    "import numpy as np\n",
    "import os\n",
    "import random\n",
    "from matplotlib import pyplot as plt\n",
    "import tensorflow as tf\n",
    "from tensorflow.keras import losses, layers, models"
   ]
  },
  {
   "cell_type": "code",
   "execution_count": 8,
   "metadata": {},
   "outputs": [],
   "source": [
    "def unpickle(file):\n",
    "    import pickle\n",
    "    with open(file, 'rb') as fo:\n",
    "        dict = pickle.load(fo, encoding='bytes')\n",
    "    return dict"
   ]
  },
  {
   "cell_type": "code",
   "execution_count": 10,
   "metadata": {},
   "outputs": [],
   "source": [
    "files = []\n",
    "for i in range(6):\n",
    "    name =  ''\n",
    "    if i == 5:\n",
    "        name = os.getcwd() + '\\\\cifar-10-batches-py\\\\test_batch'\n",
    "    else:\n",
    "        name = os.getcwd() + '\\\\cifar-10-batches-py\\\\data_batch_' + str(i + 1)\n",
    "    files.append(unpickle(name))"
   ]
  },
  {
   "cell_type": "code",
   "execution_count": 117,
   "metadata": {},
   "outputs": [],
   "source": [
    "rotations_num = 4\n",
    "saved_name = 'selfsupervised'\n",
    "selfsupervised_epochs = 20\n",
    "selfsupervised_batch_size = 32\n",
    "supervised_epochs = 20\n",
    "supervised_batch_size = 32\n",
    "supervised_trainval_ratio = 1. / 6 #1/6 is implied in CIFAR-10"
   ]
  },
  {
   "cell_type": "code",
   "execution_count": 12,
   "metadata": {},
   "outputs": [],
   "source": [
    "combined_data = np.zeros((60000 * rotations_num, 32, 32, 3), dtype = np.float32)\n",
    "combined_labels = np.zeros((60000 * rotations_num, rotations_num), dtype = np.float32)\n",
    "true_labels = np.zeros((60000, 10), dtype = np.float32)"
   ]
  },
  {
   "cell_type": "code",
   "execution_count": 13,
   "metadata": {},
   "outputs": [],
   "source": [
    "for i in range(len(files)):\n",
    "    data_len = files[i][b\"data\"].shape[0]\n",
    "    for j in range(data_len):\n",
    "        row = files[i][b\"data\"][j]\n",
    "        for k in range(files[i][b\"data\"].shape[1]):\n",
    "            combined_data[data_len * i + j][(k & 1023) >> 5][k & 31][k >> 10] = row[k] / 255.\n",
    "        true_labels[data_len * i + j][files[i][b\"labels\"][j]] = 1.\n",
    "        combined_labels[data_len * i + j] = 0\n",
    "        for t in range(1, 4):\n",
    "            combined_data[60000 * t + data_len * i + j] = np.rot90(combined_data[data_len * i + j], t)\n",
    "            combined_labels[60000 * t + data_len * i + j][t] = 1."
   ]
  },
  {
   "cell_type": "code",
   "execution_count": 14,
   "metadata": {},
   "outputs": [
    {
     "data": {
      "image/png": "[encoded data removed]",
      "text/plain": [
       "<Figure size 432x288 with 1 Axes>"
      ]
     },
     "metadata": {
      "needs_background": "light"
     },
     "output_type": "display_data"
    }
   ],
   "source": [
    "plt.imshow(combined_data[random.randint(0, 49999)])\n",
    "plt.show()"
   ]
  },
  {
   "cell_type": "code",
   "execution_count": 17,
   "metadata": {
    "scrolled": true
   },
   "outputs": [
    {
     "name": "stdout",
     "output_type": "stream",
     "text": [
      "[0. 1. 0. 0.]\n"
     ]
    }
   ],
   "source": [
    "print(combined_labels[99009])"
   ]
  },
  {
   "cell_type": "code",
   "execution_count": 156,
   "metadata": {},
   "outputs": [],
   "source": [
    "def plot_training(**kwargs):\n",
    "    for k, v in kwargs.items():\n",
    "        if k != 'name':\n",
    "            plt.plot(v, label=k)\n",
    "    plt.grid(True)\n",
    "    plt.title(kwargs['name'])\n",
    "    plt.xlabel('Epoch')\n",
    "    plt.ylabel('Accuracy')\n",
    "    plt.ylim([0.5, 1])\n",
    "    plt.legend(loc='lower right')"
   ]
  },
  {
   "cell_type": "code",
   "execution_count": 123,
   "metadata": {},
   "outputs": [],
   "source": [
    "def get_feat_model():\n",
    "    inputs = tf.keras.Input((32, 32, 3))\n",
    "    x = layers.Conv2D(32, (3, 3), activation='relu')(inputs)\n",
    "    x = layers.BatchNormalization()(x)\n",
    "    x = layers.MaxPooling2D((2, 2))(x)\n",
    "    x = layers.Conv2D(64, (3, 3), activation='relu')(x)\n",
    "    x = layers.BatchNormalization()(x)\n",
    "    x = layers.MaxPooling2D((2, 2))(x)\n",
    "    x = layers.Conv2D(64, (3, 3), activation='relu')(x)\n",
    "    x = layers.BatchNormalization()(x)\n",
    "    \n",
    "    x = layers.Flatten()(x)\n",
    "    x = layers.Dropout(0.5)(x)\n",
    "    x = layers.Dense(128, activation='relu')(x)\n",
    "    x = layers.BatchNormalization()(x)\n",
    "    x = layers.Dense(rotations_num, activation = 'softmax')(x)\n",
    "    \n",
    "    return tf.keras.Model(inputs = inputs, outputs = x)"
   ]
  },
  {
   "cell_type": "code",
   "execution_count": 124,
   "metadata": {},
   "outputs": [],
   "source": [
    "def train_feat():\n",
    "    model = get_feat_model()\n",
    "    model.summary()\n",
    "    model.compile(optimizer='adam', loss = 'categorical_crossentropy', metrics=['accuracy'])\n",
    "    log = model.fit(combined_data, combined_labels, \n",
    "                    epochs = selfsupervised_epochs, batch_size = selfsupervised_batch_size, shuffle = True)\n",
    "    model.save(saved_name)\n",
    "    return log"
   ]
  },
  {
   "cell_type": "code",
   "execution_count": 125,
   "metadata": {
    "scrolled": false
   },
   "outputs": [
    {
     "name": "stdout",
     "output_type": "stream",
     "text": [
      "_________________________________________________________________\n",
      "Layer (type)                 Output Shape              Param #   \n",
      "=================================================================\n",
      "input_8 (InputLayer)         (None, 32, 32, 3)         0         \n",
      "_________________________________________________________________\n",
      "conv2d_24 (Conv2D)           (None, 30, 30, 32)        896       \n",
      "_________________________________________________________________\n",
      "batch_normalization_v1_30 (B (None, 30, 30, 32)        128       \n",
      "_________________________________________________________________\n",
      "max_pooling2d_14 (MaxPooling (None, 15, 15, 32)        0         \n",
      "_________________________________________________________________\n",
      "conv2d_25 (Conv2D)           (None, 13, 13, 64)        18496     \n",
      "_________________________________________________________________\n",
      "batch_normalization_v1_31 (B (None, 13, 13, 64)        256       \n",
      "_________________________________________________________________\n",
      "max_pooling2d_15 (MaxPooling (None, 6, 6, 64)          0         \n",
      "_________________________________________________________________\n",
      "conv2d_26 (Conv2D)           (None, 4, 4, 64)          36928     \n",
      "_________________________________________________________________\n",
      "batch_normalization_v1_32 (B (None, 4, 4, 64)          256       \n",
      "_________________________________________________________________\n",
      "flatten_18 (Flatten)         (None, 1024)              0         \n",
      "_________________________________________________________________\n",
      "dropout_17 (Dropout)         (None, 1024)              0         \n",
      "_________________________________________________________________\n",
      "dense_34 (Dense)             (None, 128)               131200    \n",
      "_________________________________________________________________\n",
      "batch_normalization_v1_33 (B (None, 128)               512       \n",
      "_________________________________________________________________\n",
      "dense_35 (Dense)             (None, 4)                 516       \n",
      "=================================================================\n",
      "Total params: 189,188\n",
      "Trainable params: 188,612\n",
      "Non-trainable params: 576\n",
      "_________________________________________________________________\n",
      "Epoch 1/20\n",
      "240000/240000 [==============================] - 44s 183us/sample - loss: 0.5819 - acc: 0.4910\n",
      "Epoch 2/20\n",
      "240000/240000 [==============================] - 44s 183us/sample - loss: 0.4707 - acc: 0.5488\n",
      "Epoch 3/20\n",
      "240000/240000 [==============================] - 43s 178us/sample - loss: 0.4301 - acc: 0.5688\n",
      "Epoch 4/20\n",
      "240000/240000 [==============================] - 43s 178us/sample - loss: 0.4064 - acc: 0.5808\n",
      "Epoch 5/20\n",
      "240000/240000 [==============================] - 44s 182us/sample - loss: 0.3872 - acc: 0.5892\n",
      "Epoch 6/20\n",
      "240000/240000 [==============================] - 44s 184us/sample - loss: 0.3738 - acc: 0.5960\n",
      "Epoch 7/20\n",
      "240000/240000 [==============================] - 43s 178us/sample - loss: 0.3630 - acc: 0.6006\n",
      "Epoch 8/20\n",
      "240000/240000 [==============================] - 45s 189us/sample - loss: 0.3538 - acc: 0.6045\n",
      "Epoch 9/20\n",
      "240000/240000 [==============================] - 44s 182us/sample - loss: 0.3442 - acc: 0.6095\n",
      "Epoch 10/20\n",
      "240000/240000 [==============================] - 45s 187us/sample - loss: 0.3386 - acc: 0.6119\n",
      "Epoch 11/20\n",
      "240000/240000 [==============================] - 46s 191us/sample - loss: 0.3331 - acc: 0.6144\n",
      "Epoch 12/20\n",
      "240000/240000 [==============================] - 42s 176us/sample - loss: 0.3270 - acc: 0.6174\n",
      "Epoch 13/20\n",
      "240000/240000 [==============================] - 44s 183us/sample - loss: 0.3228 - acc: 0.6186\n",
      "Epoch 14/20\n",
      "240000/240000 [==============================] - 44s 182us/sample - loss: 0.3159 - acc: 0.6219\n",
      "Epoch 15/20\n",
      "240000/240000 [==============================] - 41s 170us/sample - loss: 0.3143 - acc: 0.6225\n",
      "Epoch 16/20\n",
      "240000/240000 [==============================] - 44s 183us/sample - loss: 0.3082 - acc: 0.6252\n",
      "Epoch 17/20\n",
      "240000/240000 [==============================] - 45s 186us/sample - loss: 0.3056 - acc: 0.6257\n",
      "Epoch 18/20\n",
      "240000/240000 [==============================] - 45s 186us/sample - loss: 0.3021 - acc: 0.6277\n",
      "Epoch 19/20\n",
      "240000/240000 [==============================] - 44s 182us/sample - loss: 0.2998 - acc: 0.6290\n",
      "Epoch 20/20\n",
      "240000/240000 [==============================] - 44s 183us/sample - loss: 0.2964 - acc: 0.6309\n"
     ]
    }
   ],
   "source": [
    "log = train_feat()"
   ]
  },
  {
   "cell_type": "code",
   "execution_count": 135,
   "metadata": {},
   "outputs": [
    {
     "data": {
      "image/png": "[encoded data removed]",
      "text/plain": [
       "<Figure size 432x288 with 1 Axes>"
      ]
     },
     "metadata": {
      "needs_background": "light"
     },
     "output_type": "display_data"
    }
   ],
   "source": [
    "plot_training(accuracy = log.history['acc'])"
   ]
  },
  {
   "cell_type": "code",
   "execution_count": 149,
   "metadata": {},
   "outputs": [],
   "source": [
    "def get_cls_model():\n",
    "    model = tf.keras.models.load_model(saved_name)\n",
    "    x = model.get_layer('conv2d_23').output\n",
    "    x = layers.Flatten()(x)\n",
    "    x = layers.Dropout(0.5)(x)\n",
    "    x = layers.Dense(128, activation='relu')(x)\n",
    "    x = layers.BatchNormalization()(x)\n",
    "    x = layers.Dense(10, activation = 'softmax')(x)\n",
    "    return tf.keras.Model(inputs = model.input, outputs = x)"
   ]
  },
  {
   "cell_type": "code",
   "execution_count": 140,
   "metadata": {},
   "outputs": [],
   "source": [
    "def train_cls(train_features = True):\n",
    "    cls_model = get_cls_model()\n",
    "    cls_model.summary()\n",
    "    if not train_features:\n",
    "        for l in cls_model.layers[:-5]:\n",
    "            l.trainable = False\n",
    "    cls_model.compile(optimizer='adam', loss = 'categorical_crossentropy', metrics=['accuracy'])\n",
    "    cls_log = cls_model.fit(combined_data[:int(60000 * (1.0 - supervised_trainval_ratio))], \n",
    "                            true_labels[:int(60000 * (1.0 - supervised_trainval_ratio))], \n",
    "                            epochs = supervised_epochs, batch_size = supervised_batch_size, shuffle = True,\n",
    "                            validation_data = (combined_data[int(60000 * (1.0 - supervised_trainval_ratio)):60000], \n",
    "                                               true_labels[int(60000 * (1.0 - supervised_trainval_ratio)):60000]))\n",
    "    return cls_log"
   ]
  },
  {
   "cell_type": "code",
   "execution_count": 119,
   "metadata": {},
   "outputs": [
    {
     "name": "stdout",
     "output_type": "stream",
     "text": [
      "Train on 50000 samples, validate on 10000 samples\n",
      "Epoch 1/20\n",
      "50000/50000 [==============================] - 10s 204us/sample - loss: 1.2895 - acc: 0.5481 - val_loss: 1.0349 - val_acc: 0.6269\n",
      "Epoch 2/20\n",
      "50000/50000 [==============================] - 9s 176us/sample - loss: 1.0156 - acc: 0.6437 - val_loss: 0.9171 - val_acc: 0.6741\n",
      "Epoch 3/20\n",
      "50000/50000 [==============================] - 9s 179us/sample - loss: 0.9232 - acc: 0.6770 - val_loss: 0.9447 - val_acc: 0.6665\n",
      "Epoch 4/20\n",
      "50000/50000 [==============================] - 9s 178us/sample - loss: 0.8577 - acc: 0.6994 - val_loss: 0.7591 - val_acc: 0.7383\n",
      "Epoch 5/20\n",
      "50000/50000 [==============================] - 9s 188us/sample - loss: 0.8085 - acc: 0.7164 - val_loss: 0.7486 - val_acc: 0.7371\n",
      "Epoch 6/20\n",
      "50000/50000 [==============================] - 9s 188us/sample - loss: 0.7687 - acc: 0.7313 - val_loss: 0.7730 - val_acc: 0.7296\n",
      "Epoch 7/20\n",
      "50000/50000 [==============================] - 9s 185us/sample - loss: 0.7368 - acc: 0.7396 - val_loss: 0.7830 - val_acc: 0.7334\n",
      "Epoch 8/20\n",
      "50000/50000 [==============================] - 9s 176us/sample - loss: 0.7134 - acc: 0.7511 - val_loss: 0.7492 - val_acc: 0.7414\n",
      "Epoch 9/20\n",
      "50000/50000 [==============================] - 9s 181us/sample - loss: 0.6860 - acc: 0.7609 - val_loss: 0.6706 - val_acc: 0.7685\n",
      "Epoch 10/20\n",
      "50000/50000 [==============================] - 9s 177us/sample - loss: 0.6669 - acc: 0.7668 - val_loss: 0.7153 - val_acc: 0.7480\n",
      "Epoch 11/20\n",
      "50000/50000 [==============================] - 9s 178us/sample - loss: 0.6554 - acc: 0.7709 - val_loss: 0.6576 - val_acc: 0.7737\n",
      "Epoch 12/20\n",
      "50000/50000 [==============================] - 9s 182us/sample - loss: 0.6299 - acc: 0.7784 - val_loss: 0.6472 - val_acc: 0.7729\n",
      "Epoch 13/20\n",
      "50000/50000 [==============================] - 8s 170us/sample - loss: 0.6149 - acc: 0.7845 - val_loss: 0.6865 - val_acc: 0.7638\n",
      "Epoch 14/20\n",
      "50000/50000 [==============================] - 8s 166us/sample - loss: 0.5984 - acc: 0.7890 - val_loss: 0.6671 - val_acc: 0.7702\n",
      "Epoch 15/20\n",
      "50000/50000 [==============================] - 8s 167us/sample - loss: 0.5837 - acc: 0.7956 - val_loss: 0.6382 - val_acc: 0.7780\n",
      "Epoch 16/20\n",
      "50000/50000 [==============================] - 8s 168us/sample - loss: 0.5787 - acc: 0.7970 - val_loss: 0.6603 - val_acc: 0.7735\n",
      "Epoch 17/20\n",
      "50000/50000 [==============================] - 8s 167us/sample - loss: 0.5596 - acc: 0.8010 - val_loss: 0.6135 - val_acc: 0.7889\n",
      "Epoch 18/20\n",
      "50000/50000 [==============================] - 9s 173us/sample - loss: 0.5522 - acc: 0.8068 - val_loss: 0.6223 - val_acc: 0.7873\n",
      "Epoch 19/20\n",
      "50000/50000 [==============================] - 9s 189us/sample - loss: 0.5419 - acc: 0.8088 - val_loss: 0.6486 - val_acc: 0.7763\n",
      "Epoch 20/20\n",
      "50000/50000 [==============================] - 9s 175us/sample - loss: 0.5383 - acc: 0.8108 - val_loss: 0.6159 - val_acc: 0.7880\n"
     ]
    }
   ],
   "source": [
    "cls_train_features = train_cls(True)"
   ]
  },
  {
   "cell_type": "code",
   "execution_count": 150,
   "metadata": {
    "scrolled": false
   },
   "outputs": [
    {
     "name": "stdout",
     "output_type": "stream",
     "text": [
      "_________________________________________________________________\n",
      "Layer (type)                 Output Shape              Param #   \n",
      "=================================================================\n",
      "input_7 (InputLayer)         (None, 32, 32, 3)         0         \n",
      "_________________________________________________________________\n",
      "conv2d_21 (Conv2D)           (None, 30, 30, 32)        896       \n",
      "_________________________________________________________________\n",
      "batch_normalization_v1_21 (B (None, 30, 30, 32)        128       \n",
      "_________________________________________________________________\n",
      "max_pooling2d_12 (MaxPooling (None, 15, 15, 32)        0         \n",
      "_________________________________________________________________\n",
      "conv2d_22 (Conv2D)           (None, 13, 13, 64)        18496     \n",
      "_________________________________________________________________\n",
      "batch_normalization_v1_22 (B (None, 13, 13, 64)        256       \n",
      "_________________________________________________________________\n",
      "max_pooling2d_13 (MaxPooling (None, 6, 6, 64)          0         \n",
      "_________________________________________________________________\n",
      "conv2d_23 (Conv2D)           (None, 4, 4, 64)          36928     \n",
      "_________________________________________________________________\n",
      "flatten_20 (Flatten)         (None, 1024)              0         \n",
      "_________________________________________________________________\n",
      "dropout_19 (Dropout)         (None, 1024)              0         \n",
      "_________________________________________________________________\n",
      "dense_38 (Dense)             (None, 128)               131200    \n",
      "_________________________________________________________________\n",
      "batch_normalization_v1_35 (B (None, 128)               512       \n",
      "_________________________________________________________________\n",
      "dense_39 (Dense)             (None, 10)                1290      \n",
      "=================================================================\n",
      "Total params: 189,706\n",
      "Trainable params: 189,258\n",
      "Non-trainable params: 448\n",
      "_________________________________________________________________\n",
      "Train on 50000 samples, validate on 10000 samples\n",
      "Epoch 1/20\n",
      "50000/50000 [==============================] - 8s 151us/sample - loss: 1.4135 - acc: 0.5073 - val_loss: 1.1440 - val_acc: 0.5963\n",
      "Epoch 2/20\n",
      "50000/50000 [==============================] - 7s 131us/sample - loss: 1.2459 - acc: 0.5576 - val_loss: 1.1112 - val_acc: 0.6046\n",
      "Epoch 3/20\n",
      "50000/50000 [==============================] - 7s 131us/sample - loss: 1.2003 - acc: 0.5792 - val_loss: 1.0630 - val_acc: 0.6260\n",
      "Epoch 4/20\n",
      "50000/50000 [==============================] - 7s 132us/sample - loss: 1.1614 - acc: 0.5895 - val_loss: 1.0375 - val_acc: 0.6379\n",
      "Epoch 5/20\n",
      "50000/50000 [==============================] - 7s 137us/sample - loss: 1.1348 - acc: 0.5990 - val_loss: 1.0152 - val_acc: 0.6463\n",
      "Epoch 6/20\n",
      "50000/50000 [==============================] - 7s 146us/sample - loss: 1.1063 - acc: 0.6115 - val_loss: 1.0023 - val_acc: 0.6485\n",
      "Epoch 7/20\n",
      "50000/50000 [==============================] - 8s 155us/sample - loss: 1.0885 - acc: 0.6165 - val_loss: 1.0015 - val_acc: 0.6523\n",
      "Epoch 8/20\n",
      "50000/50000 [==============================] - 7s 144us/sample - loss: 1.0665 - acc: 0.6239 - val_loss: 0.9813 - val_acc: 0.6562\n",
      "Epoch 9/20\n",
      "50000/50000 [==============================] - 7s 142us/sample - loss: 1.0559 - acc: 0.6269 - val_loss: 0.9972 - val_acc: 0.6439\n",
      "Epoch 10/20\n",
      "50000/50000 [==============================] - 7s 135us/sample - loss: 1.0325 - acc: 0.6362 - val_loss: 0.9584 - val_acc: 0.6660\n",
      "Epoch 11/20\n",
      "50000/50000 [==============================] - 7s 140us/sample - loss: 1.0321 - acc: 0.6358 - val_loss: 0.9742 - val_acc: 0.6551\n",
      "Epoch 12/20\n",
      "50000/50000 [==============================] - 7s 136us/sample - loss: 1.0202 - acc: 0.6429 - val_loss: 0.9614 - val_acc: 0.6594\n",
      "Epoch 13/20\n",
      "50000/50000 [==============================] - 7s 135us/sample - loss: 1.0037 - acc: 0.6457 - val_loss: 0.9560 - val_acc: 0.6644\n",
      "Epoch 14/20\n",
      "50000/50000 [==============================] - 7s 136us/sample - loss: 0.9948 - acc: 0.6501 - val_loss: 0.9404 - val_acc: 0.6721\n",
      "Epoch 15/20\n",
      "50000/50000 [==============================] - 7s 135us/sample - loss: 0.9926 - acc: 0.6517 - val_loss: 0.9393 - val_acc: 0.6703\n",
      "Epoch 16/20\n",
      "50000/50000 [==============================] - 7s 134us/sample - loss: 0.9808 - acc: 0.6541 - val_loss: 0.9461 - val_acc: 0.6669\n",
      "Epoch 17/20\n",
      "50000/50000 [==============================] - 7s 135us/sample - loss: 0.9796 - acc: 0.6547 - val_loss: 0.9371 - val_acc: 0.6706\n",
      "Epoch 18/20\n",
      "50000/50000 [==============================] - 7s 134us/sample - loss: 0.9682 - acc: 0.6588 - val_loss: 0.9317 - val_acc: 0.6708\n",
      "Epoch 19/20\n",
      "50000/50000 [==============================] - 7s 148us/sample - loss: 0.9658 - acc: 0.6604 - val_loss: 0.9353 - val_acc: 0.6702\n",
      "Epoch 20/20\n",
      "50000/50000 [==============================] - 7s 145us/sample - loss: 0.9638 - acc: 0.6609 - val_loss: 0.9265 - val_acc: 0.6720\n"
     ]
    }
   ],
   "source": [
    "cls_no_train_features = train_cls(False)"
   ]
  },
  {
   "cell_type": "code",
   "execution_count": 157,
   "metadata": {},
   "outputs": [
    {
     "data": {
      "image/png": "[encoded data removed]",
      "text/plain": [
       "<Figure size 432x288 with 1 Axes>"
      ]
     },
     "metadata": {
      "needs_background": "light"
     },
     "output_type": "display_data"
    }
   ],
   "source": [
    "plot_training(name = 'Train accuracy',\n",
    "              fine_tuning_accuracy = cls_train_features.history['acc'],\n",
    "              feature_extracting_accuracy = cls_no_train_features.history['acc'])"
   ]
  },
  {
   "cell_type": "code",
   "execution_count": 159,
   "metadata": {},
   "outputs": [
    {
     "data": {
      "image/png": "[encoded data removed]",
      "text/plain": [
       "<Figure size 432x288 with 1 Axes>"
      ]
     },
     "metadata": {
      "needs_background": "light"
     },
     "output_type": "display_data"
    }
   ],
   "source": [
    "plot_training(name = 'Validation accuracy',\n",
    "              fine_tuning_accuracy = cls_train_features.history['val_acc'],\n",
    "              feature_extracting_accuracy = cls_no_train_features.history['val_acc'])"
   ]
  },
  {
   "cell_type": "code",
   "execution_count": null,
   "metadata": {},
   "outputs": [],
   "source": []
  }
 ],
 "metadata": {
  "kernelspec": {
   "display_name": "Python 3",
   "language": "python",
   "name": "python3"
  },
  "language_info": {
   "codemirror_mode": {
    "name": "ipython",
    "version": 3
   },
   "file_extension": ".py",
   "mimetype": "text/x-python",
   "name": "python",
   "nbconvert_exporter": "python",
   "pygments_lexer": "ipython3",
   "version": "3.6.9"
  }
 },
 "nbformat": 4,
 "nbformat_minor": 2
}
