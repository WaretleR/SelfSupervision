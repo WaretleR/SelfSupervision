{
 "cells": [
  {
   "cell_type": "code",
   "execution_count": 1,
   "metadata": {},
   "outputs": [
    {
     "name": "stderr",
     "output_type": "stream",
     "text": [
      "C:\\Users\\Alexander\\.conda\\envs\\keras-gpu\\lib\\site-packages\\tensorflow\\python\\framework\\dtypes.py:526: FutureWarning: Passing (type, 1) or '1type' as a synonym of type is deprecated; in a future version of numpy, it will be understood as (type, (1,)) / '(1,)type'.\n",
      "  _np_qint8 = np.dtype([(\"qint8\", np.int8, 1)])\n",
      "C:\\Users\\Alexander\\.conda\\envs\\keras-gpu\\lib\\site-packages\\tensorflow\\python\\framework\\dtypes.py:527: FutureWarning: Passing (type, 1) or '1type' as a synonym of type is deprecated; in a future version of numpy, it will be understood as (type, (1,)) / '(1,)type'.\n",
      "  _np_quint8 = np.dtype([(\"quint8\", np.uint8, 1)])\n",
      "C:\\Users\\Alexander\\.conda\\envs\\keras-gpu\\lib\\site-packages\\tensorflow\\python\\framework\\dtypes.py:528: FutureWarning: Passing (type, 1) or '1type' as a synonym of type is deprecated; in a future version of numpy, it will be understood as (type, (1,)) / '(1,)type'.\n",
      "  _np_qint16 = np.dtype([(\"qint16\", np.int16, 1)])\n",
      "C:\\Users\\Alexander\\.conda\\envs\\keras-gpu\\lib\\site-packages\\tensorflow\\python\\framework\\dtypes.py:529: FutureWarning: Passing (type, 1) or '1type' as a synonym of type is deprecated; in a future version of numpy, it will be understood as (type, (1,)) / '(1,)type'.\n",
      "  _np_quint16 = np.dtype([(\"quint16\", np.uint16, 1)])\n",
      "C:\\Users\\Alexander\\.conda\\envs\\keras-gpu\\lib\\site-packages\\tensorflow\\python\\framework\\dtypes.py:530: FutureWarning: Passing (type, 1) or '1type' as a synonym of type is deprecated; in a future version of numpy, it will be understood as (type, (1,)) / '(1,)type'.\n",
      "  _np_qint32 = np.dtype([(\"qint32\", np.int32, 1)])\n",
      "C:\\Users\\Alexander\\.conda\\envs\\keras-gpu\\lib\\site-packages\\tensorflow\\python\\framework\\dtypes.py:535: FutureWarning: Passing (type, 1) or '1type' as a synonym of type is deprecated; in a future version of numpy, it will be understood as (type, (1,)) / '(1,)type'.\n",
      "  np_resource = np.dtype([(\"resource\", np.ubyte, 1)])\n"
     ]
    }
   ],
   "source": [
    "import numpy as np\n",
    "import os\n",
    "import random\n",
    "from matplotlib import pyplot as plt\n",
    "import tensorflow as tf\n",
    "from tensorflow.keras import losses, layers, models"
   ]
  },
  {
   "cell_type": "code",
   "execution_count": 2,
   "metadata": {},
   "outputs": [],
   "source": [
    "def unpickle(file):\n",
    "    import pickle\n",
    "    with open(file, 'rb') as fo:\n",
    "        dict = pickle.load(fo, encoding='bytes')\n",
    "    return dict"
   ]
  },
  {
   "cell_type": "code",
   "execution_count": 3,
   "metadata": {},
   "outputs": [],
   "source": [
    "files = []\n",
    "for i in range(6):\n",
    "    name =  ''\n",
    "    if i == 5:\n",
    "        name = os.getcwd() + '\\\\cifar-10-batches-py\\\\test_batch'\n",
    "    else:\n",
    "        name = os.getcwd() + '\\\\cifar-10-batches-py\\\\data_batch_' + str(i + 1)\n",
    "    files.append(unpickle(name))"
   ]
  },
  {
   "cell_type": "code",
   "execution_count": 4,
   "metadata": {},
   "outputs": [],
   "source": [
    "rotations_num = 4\n",
    "saved_name = 'selfsupervised'\n",
    "selfsupervised_epochs = 20\n",
    "selfsupervised_batch_size = 32\n",
    "supervised_epochs = 20\n",
    "supervised_batch_size = 32\n",
    "supervised_trainval_ratio = 1. / 6 #1/6 is implied in CIFAR-10"
   ]
  },
  {
   "cell_type": "code",
   "execution_count": 5,
   "metadata": {},
   "outputs": [],
   "source": [
    "combined_data = np.zeros((60000 * rotations_num, 32, 32, 3), dtype = np.float32)\n",
    "combined_labels = np.zeros((60000 * rotations_num, rotations_num), dtype = np.float32)\n",
    "true_labels = np.zeros((60000, 10), dtype = np.float32)"
   ]
  },
  {
   "cell_type": "code",
   "execution_count": 6,
   "metadata": {},
   "outputs": [],
   "source": [
    "for i in range(len(files)):\n",
    "    data_len = files[i][b\"data\"].shape[0]\n",
    "    for j in range(data_len):\n",
    "        row = files[i][b\"data\"][j]\n",
    "        for k in range(files[i][b\"data\"].shape[1]):\n",
    "            combined_data[data_len * i + j][(k & 1023) >> 5][k & 31][k >> 10] = row[k] / 255.\n",
    "        true_labels[data_len * i + j][files[i][b\"labels\"][j]] = 1.\n",
    "        combined_labels[data_len * i + j] = 0\n",
    "        for t in range(1, 4):\n",
    "            combined_data[60000 * t + data_len * i + j] = np.rot90(combined_data[data_len * i + j], t)\n",
    "            combined_labels[60000 * t + data_len * i + j][t] = 1."
   ]
  },
  {
   "cell_type": "code",
   "execution_count": 14,
   "metadata": {},
   "outputs": [
    {
     "data": {
      "image/png": "[encoded data removed]",
      "text/plain": [
       "<Figure size 432x288 with 1 Axes>"
      ]
     },
     "metadata": {
      "needs_background": "light"
     },
     "output_type": "display_data"
    }
   ],
   "source": [
    "plt.imshow(combined_data[random.randint(0, 49999)])\n",
    "plt.show()"
   ]
  },
  {
   "cell_type": "code",
   "execution_count": 8,
   "metadata": {
    "scrolled": true
   },
   "outputs": [
    {
     "name": "stdout",
     "output_type": "stream",
     "text": [
      "[0. 1. 0. 0.]\n"
     ]
    }
   ],
   "source": [
    "print(combined_labels[99009])"
   ]
  },
  {
   "cell_type": "code",
   "execution_count": 9,
   "metadata": {},
   "outputs": [],
   "source": [
    "def plot_training(**kwargs):\n",
    "    for k, v in kwargs.items():\n",
    "        if k != 'name':\n",
    "            plt.plot(v, label=k)\n",
    "    plt.grid(True)\n",
    "    plt.title(kwargs['name'])\n",
    "    plt.xlabel('Epoch')\n",
    "    plt.ylabel('Accuracy')\n",
    "    plt.ylim([0.5, 1])\n",
    "    plt.legend(loc='lower right')"
   ]
  },
  {
   "cell_type": "code",
   "execution_count": 10,
   "metadata": {},
   "outputs": [],
   "source": [
    "def get_feat_model():\n",
    "    inputs = tf.keras.Input((32, 32, 3))\n",
    "    x = layers.Conv2D(32, (3, 3), activation='relu')(inputs)\n",
    "    x = layers.BatchNormalization()(x)\n",
    "    x = layers.MaxPooling2D((2, 2))(x)\n",
    "    x = layers.Conv2D(64, (3, 3), activation='relu')(x)\n",
    "    x = layers.BatchNormalization()(x)\n",
    "    x = layers.MaxPooling2D((2, 2))(x)\n",
    "    x = layers.Conv2D(64, (3, 3), activation='relu')(x)\n",
    "    x = layers.BatchNormalization()(x)\n",
    "    \n",
    "    x = layers.Flatten()(x)\n",
    "    x = layers.Dropout(0.5)(x)\n",
    "    x = layers.Dense(128, activation='relu')(x)\n",
    "    x = layers.BatchNormalization()(x)\n",
    "    x = layers.Dense(rotations_num, activation = 'softmax')(x)\n",
    "    \n",
    "    return tf.keras.Model(inputs = inputs, outputs = x)"
   ]
  },
  {
   "cell_type": "code",
   "execution_count": 11,
   "metadata": {},
   "outputs": [],
   "source": [
    "def train_feat():\n",
    "    model = get_feat_model()\n",
    "    model.summary()\n",
    "    model.compile(optimizer='adam', loss = 'categorical_crossentropy', metrics=['accuracy'])\n",
    "    log = model.fit(combined_data, combined_labels, \n",
    "                    epochs = selfsupervised_epochs, batch_size = selfsupervised_batch_size, shuffle = True)\n",
    "    model.save(saved_name)\n",
    "    return log"
   ]
  },
  {
   "cell_type": "code",
   "execution_count": 12,
   "metadata": {
    "scrolled": false
   },
   "outputs": [
    {
     "name": "stdout",
     "output_type": "stream",
     "text": [
      "WARNING:tensorflow:From C:\\Users\\Alexander\\.conda\\envs\\keras-gpu\\lib\\site-packages\\tensorflow\\python\\ops\\resource_variable_ops.py:435: colocate_with (from tensorflow.python.framework.ops) is deprecated and will be removed in a future version.\n",
      "Instructions for updating:\n",
      "Colocations handled automatically by placer.\n",
      "WARNING:tensorflow:From C:\\Users\\Alexander\\.conda\\envs\\keras-gpu\\lib\\site-packages\\tensorflow\\python\\keras\\layers\\core.py:143: calling dropout (from tensorflow.python.ops.nn_ops) with keep_prob is deprecated and will be removed in a future version.\n",
      "Instructions for updating:\n",
      "Please use `rate` instead of `keep_prob`. Rate should be set to `rate = 1 - keep_prob`.\n",
      "_________________________________________________________________\n",
      "Layer (type)                 Output Shape              Param #   \n",
      "=================================================================\n",
      "input_1 (InputLayer)         (None, 32, 32, 3)         0         \n",
      "_________________________________________________________________\n",
      "conv2d (Conv2D)              (None, 30, 30, 32)        896       \n",
      "_________________________________________________________________\n",
      "batch_normalization_v1 (Batc (None, 30, 30, 32)        128       \n",
      "_________________________________________________________________\n",
      "max_pooling2d (MaxPooling2D) (None, 15, 15, 32)        0         \n",
      "_________________________________________________________________\n",
      "conv2d_1 (Conv2D)            (None, 13, 13, 64)        18496     \n",
      "_________________________________________________________________\n",
      "batch_normalization_v1_1 (Ba (None, 13, 13, 64)        256       \n",
      "_________________________________________________________________\n",
      "max_pooling2d_1 (MaxPooling2 (None, 6, 6, 64)          0         \n",
      "_________________________________________________________________\n",
      "conv2d_2 (Conv2D)            (None, 4, 4, 64)          36928     \n",
      "_________________________________________________________________\n",
      "batch_normalization_v1_2 (Ba (None, 4, 4, 64)          256       \n",
      "_________________________________________________________________\n",
      "flatten (Flatten)            (None, 1024)              0         \n",
      "_________________________________________________________________\n",
      "dropout (Dropout)            (None, 1024)              0         \n",
      "_________________________________________________________________\n",
      "dense (Dense)                (None, 128)               131200    \n",
      "_________________________________________________________________\n",
      "batch_normalization_v1_3 (Ba (None, 128)               512       \n",
      "_________________________________________________________________\n",
      "dense_1 (Dense)              (None, 4)                 516       \n",
      "=================================================================\n",
      "Total params: 189,188\n",
      "Trainable params: 188,612\n",
      "Non-trainable params: 576\n",
      "_________________________________________________________________\n",
      "WARNING:tensorflow:From C:\\Users\\Alexander\\.conda\\envs\\keras-gpu\\lib\\site-packages\\tensorflow\\python\\ops\\math_ops.py:3066: to_int32 (from tensorflow.python.ops.math_ops) is deprecated and will be removed in a future version.\n",
      "Instructions for updating:\n",
      "Use tf.cast instead.\n",
      "Epoch 1/20\n",
      "240000/240000 [==============================] - 38s 158us/sample - loss: 0.5791 - acc: 0.4928\n",
      "Epoch 2/20\n",
      "240000/240000 [==============================] - 36s 150us/sample - loss: 0.4658 - acc: 0.5511\n",
      "Epoch 3/20\n",
      "240000/240000 [==============================] - 35s 145us/sample - loss: 0.4274 - acc: 0.5712\n",
      "Epoch 4/20\n",
      "240000/240000 [==============================] - 37s 153us/sample - loss: 0.4017 - acc: 0.5831\n",
      "Epoch 5/20\n",
      "240000/240000 [==============================] - 35s 145us/sample - loss: 0.3845 - acc: 0.5914\n",
      "Epoch 6/20\n",
      "240000/240000 [==============================] - 37s 154us/sample - loss: 0.3705 - acc: 0.5971\n",
      "Epoch 7/20\n",
      "240000/240000 [==============================] - 36s 151us/sample - loss: 0.3604 - acc: 0.6018\n",
      "Epoch 8/20\n",
      "240000/240000 [==============================] - 35s 147us/sample - loss: 0.3491 - acc: 0.6067\n",
      "Epoch 9/20\n",
      "240000/240000 [==============================] - 35s 144us/sample - loss: 0.3429 - acc: 0.6094\n",
      "Epoch 10/20\n",
      "240000/240000 [==============================] - 35s 147us/sample - loss: 0.3359 - acc: 0.6129\n",
      "Epoch 11/20\n",
      "240000/240000 [==============================] - 36s 152us/sample - loss: 0.3302 - acc: 0.6158\n",
      "Epoch 12/20\n",
      "240000/240000 [==============================] - 36s 151us/sample - loss: 0.3247 - acc: 0.6180\n",
      "Epoch 13/20\n",
      "240000/240000 [==============================] - 36s 151us/sample - loss: 0.3198 - acc: 0.6202\n",
      "Epoch 14/20\n",
      "240000/240000 [==============================] - 35s 146us/sample - loss: 0.3156 - acc: 0.6229\n",
      "Epoch 15/20\n",
      "240000/240000 [==============================] - 36s 149us/sample - loss: 0.3122 - acc: 0.6237\n",
      "Epoch 16/20\n",
      "240000/240000 [==============================] - 35s 147us/sample - loss: 0.3065 - acc: 0.6262\n",
      "Epoch 17/20\n",
      "240000/240000 [==============================] - 37s 154us/sample - loss: 0.3056 - acc: 0.6260\n",
      "Epoch 18/20\n",
      "240000/240000 [==============================] - 37s 156us/sample - loss: 0.3013 - acc: 0.6285\n",
      "Epoch 19/20\n",
      "240000/240000 [==============================] - 39s 161us/sample - loss: 0.2990 - acc: 0.6289\n",
      "Epoch 20/20\n",
      "240000/240000 [==============================] - 37s 153us/sample - loss: 0.2957 - acc: 0.6309\n"
     ]
    }
   ],
   "source": [
    "log = train_feat()"
   ]
  },
  {
   "cell_type": "code",
   "execution_count": 15,
   "metadata": {},
   "outputs": [
    {
     "data": {
      "image/png": "[encoded data removed]",
      "text/plain": [
       "<Figure size 432x288 with 1 Axes>"
      ]
     },
     "metadata": {
      "needs_background": "light"
     },
     "output_type": "display_data"
    }
   ],
   "source": [
    "plot_training(accuracy = log.history['acc'], name = 'Features')"
   ]
  },
  {
   "cell_type": "code",
   "execution_count": 16,
   "metadata": {},
   "outputs": [],
   "source": [
    "def get_cls_model():\n",
    "    model = tf.keras.models.load_model(saved_name)\n",
    "    x = model.get_layer('dense').output\n",
    "    x = layers.BatchNormalization()(x)\n",
    "    x = layers.Dropout(0.5)(x)\n",
    "    x = layers.Dense(256, activation='relu')(x)\n",
    "    x = layers.Dense(10, activation = 'softmax')(x)\n",
    "    return tf.keras.Model(inputs = model.input, outputs = x)"
   ]
  },
  {
   "cell_type": "code",
   "execution_count": 17,
   "metadata": {},
   "outputs": [],
   "source": [
    "def train_cls(train_features = True):\n",
    "    cls_model = get_cls_model()\n",
    "    cls_model.summary()\n",
    "    if not train_features:\n",
    "        for l in cls_model.layers[:-5]:\n",
    "            l.trainable = False\n",
    "    cls_model.compile(optimizer='adam', loss = 'categorical_crossentropy', metrics=['accuracy'])\n",
    "    cls_log = cls_model.fit(combined_data[:int(60000 * (1.0 - supervised_trainval_ratio))], \n",
    "                            true_labels[:int(60000 * (1.0 - supervised_trainval_ratio))], \n",
    "                            epochs = supervised_epochs, batch_size = supervised_batch_size, shuffle = True,\n",
    "                            validation_data = (combined_data[int(60000 * (1.0 - supervised_trainval_ratio)):60000], \n",
    "                                               true_labels[int(60000 * (1.0 - supervised_trainval_ratio)):60000]))\n",
    "    return cls_log"
   ]
  },
  {
   "cell_type": "code",
   "execution_count": 18,
   "metadata": {},
   "outputs": [
    {
     "name": "stdout",
     "output_type": "stream",
     "text": [
      "_________________________________________________________________\n",
      "Layer (type)                 Output Shape              Param #   \n",
      "=================================================================\n",
      "input_1 (InputLayer)         (None, 32, 32, 3)         0         \n",
      "_________________________________________________________________\n",
      "conv2d (Conv2D)              (None, 30, 30, 32)        896       \n",
      "_________________________________________________________________\n",
      "batch_normalization_v1 (Batc (None, 30, 30, 32)        128       \n",
      "_________________________________________________________________\n",
      "max_pooling2d (MaxPooling2D) (None, 15, 15, 32)        0         \n",
      "_________________________________________________________________\n",
      "conv2d_1 (Conv2D)            (None, 13, 13, 64)        18496     \n",
      "_________________________________________________________________\n",
      "batch_normalization_v1_1 (Ba (None, 13, 13, 64)        256       \n",
      "_________________________________________________________________\n",
      "max_pooling2d_1 (MaxPooling2 (None, 6, 6, 64)          0         \n",
      "_________________________________________________________________\n",
      "conv2d_2 (Conv2D)            (None, 4, 4, 64)          36928     \n",
      "_________________________________________________________________\n",
      "batch_normalization_v1_2 (Ba (None, 4, 4, 64)          256       \n",
      "_________________________________________________________________\n",
      "flatten (Flatten)            (None, 1024)              0         \n",
      "_________________________________________________________________\n",
      "dropout (Dropout)            (None, 1024)              0         \n",
      "_________________________________________________________________\n",
      "dense (Dense)                (None, 128)               131200    \n",
      "_________________________________________________________________\n",
      "batch_normalization_v1_4 (Ba (None, 128)               512       \n",
      "_________________________________________________________________\n",
      "dropout_1 (Dropout)          (None, 128)               0         \n",
      "_________________________________________________________________\n",
      "dense_2 (Dense)              (None, 256)               33024     \n",
      "_________________________________________________________________\n",
      "dense_3 (Dense)              (None, 10)                2570      \n",
      "=================================================================\n",
      "Total params: 224,266\n",
      "Trainable params: 223,690\n",
      "Non-trainable params: 576\n",
      "_________________________________________________________________\n",
      "Train on 50000 samples, validate on 10000 samples\n",
      "Epoch 1/20\n",
      "50000/50000 [==============================] - 9s 189us/sample - loss: 1.4721 - acc: 0.4720 - val_loss: 1.1845 - val_acc: 0.5743\n",
      "Epoch 2/20\n",
      "50000/50000 [==============================] - 9s 177us/sample - loss: 1.1830 - acc: 0.5812 - val_loss: 0.9752 - val_acc: 0.6556\n",
      "Epoch 3/20\n",
      "50000/50000 [==============================] - 9s 179us/sample - loss: 1.0763 - acc: 0.6221 - val_loss: 0.9576 - val_acc: 0.6577\n",
      "Epoch 4/20\n",
      "50000/50000 [==============================] - 9s 177us/sample - loss: 1.0036 - acc: 0.6486 - val_loss: 0.8484 - val_acc: 0.7010\n",
      "Epoch 5/20\n",
      "50000/50000 [==============================] - 9s 181us/sample - loss: 0.9572 - acc: 0.6663 - val_loss: 0.8104 - val_acc: 0.7131\n",
      "Epoch 6/20\n",
      "50000/50000 [==============================] - 9s 181us/sample - loss: 0.9122 - acc: 0.6819 - val_loss: 0.8885 - val_acc: 0.6890\n",
      "Epoch 7/20\n",
      "50000/50000 [==============================] - 9s 175us/sample - loss: 0.8848 - acc: 0.6928 - val_loss: 0.8402 - val_acc: 0.7103\n",
      "Epoch 8/20\n",
      "50000/50000 [==============================] - 9s 172us/sample - loss: 0.8589 - acc: 0.7005 - val_loss: 0.7802 - val_acc: 0.7283\n",
      "Epoch 9/20\n",
      "50000/50000 [==============================] - 9s 176us/sample - loss: 0.8345 - acc: 0.7100 - val_loss: 0.7305 - val_acc: 0.7420\n",
      "Epoch 10/20\n",
      "50000/50000 [==============================] - 9s 170us/sample - loss: 0.8130 - acc: 0.7200 - val_loss: 0.7144 - val_acc: 0.7487\n",
      "Epoch 11/20\n",
      "50000/50000 [==============================] - 9s 176us/sample - loss: 0.7995 - acc: 0.7225 - val_loss: 0.7225 - val_acc: 0.7482\n",
      "Epoch 12/20\n",
      "50000/50000 [==============================] - 9s 180us/sample - loss: 0.7848 - acc: 0.7289 - val_loss: 0.7381 - val_acc: 0.7435\n",
      "Epoch 13/20\n",
      "50000/50000 [==============================] - 9s 179us/sample - loss: 0.7696 - acc: 0.7327 - val_loss: 0.7236 - val_acc: 0.7465\n",
      "Epoch 14/20\n",
      "50000/50000 [==============================] - 9s 171us/sample - loss: 0.7508 - acc: 0.7415 - val_loss: 0.6890 - val_acc: 0.7598\n",
      "Epoch 15/20\n",
      "50000/50000 [==============================] - 8s 169us/sample - loss: 0.7429 - acc: 0.7417 - val_loss: 0.6755 - val_acc: 0.7653\n",
      "Epoch 16/20\n",
      "50000/50000 [==============================] - 9s 174us/sample - loss: 0.7275 - acc: 0.7475 - val_loss: 0.6515 - val_acc: 0.7726\n",
      "Epoch 17/20\n",
      "50000/50000 [==============================] - 9s 178us/sample - loss: 0.7181 - acc: 0.7500 - val_loss: 0.8340 - val_acc: 0.7093\n",
      "Epoch 18/20\n",
      "50000/50000 [==============================] - 9s 172us/sample - loss: 0.7073 - acc: 0.7567 - val_loss: 0.7012 - val_acc: 0.7557\n",
      "Epoch 19/20\n",
      "50000/50000 [==============================] - 9s 185us/sample - loss: 0.6966 - acc: 0.7602 - val_loss: 0.7009 - val_acc: 0.7505\n",
      "Epoch 20/20\n",
      "50000/50000 [==============================] - 9s 181us/sample - loss: 0.6899 - acc: 0.7615 - val_loss: 0.6521 - val_acc: 0.7747\n"
     ]
    }
   ],
   "source": [
    "cls_train_features = train_cls(True)"
   ]
  },
  {
   "cell_type": "code",
   "execution_count": 19,
   "metadata": {
    "scrolled": false
   },
   "outputs": [
    {
     "name": "stdout",
     "output_type": "stream",
     "text": [
      "_________________________________________________________________\n",
      "Layer (type)                 Output Shape              Param #   \n",
      "=================================================================\n",
      "input_1 (InputLayer)         (None, 32, 32, 3)         0         \n",
      "_________________________________________________________________\n",
      "conv2d (Conv2D)              (None, 30, 30, 32)        896       \n",
      "_________________________________________________________________\n",
      "batch_normalization_v1 (Batc (None, 30, 30, 32)        128       \n",
      "_________________________________________________________________\n",
      "max_pooling2d (MaxPooling2D) (None, 15, 15, 32)        0         \n",
      "_________________________________________________________________\n",
      "conv2d_1 (Conv2D)            (None, 13, 13, 64)        18496     \n",
      "_________________________________________________________________\n",
      "batch_normalization_v1_1 (Ba (None, 13, 13, 64)        256       \n",
      "_________________________________________________________________\n",
      "max_pooling2d_1 (MaxPooling2 (None, 6, 6, 64)          0         \n",
      "_________________________________________________________________\n",
      "conv2d_2 (Conv2D)            (None, 4, 4, 64)          36928     \n",
      "_________________________________________________________________\n",
      "batch_normalization_v1_2 (Ba (None, 4, 4, 64)          256       \n",
      "_________________________________________________________________\n",
      "flatten (Flatten)            (None, 1024)              0         \n",
      "_________________________________________________________________\n",
      "dropout (Dropout)            (None, 1024)              0         \n",
      "_________________________________________________________________\n",
      "dense (Dense)                (None, 128)               131200    \n",
      "_________________________________________________________________\n",
      "batch_normalization_v1_5 (Ba (None, 128)               512       \n",
      "_________________________________________________________________\n",
      "dropout_2 (Dropout)          (None, 128)               0         \n",
      "_________________________________________________________________\n",
      "dense_4 (Dense)              (None, 256)               33024     \n",
      "_________________________________________________________________\n",
      "dense_5 (Dense)              (None, 10)                2570      \n",
      "=================================================================\n",
      "Total params: 224,266\n",
      "Trainable params: 223,690\n",
      "Non-trainable params: 576\n",
      "_________________________________________________________________\n",
      "Train on 50000 samples, validate on 10000 samples\n",
      "Epoch 1/20\n",
      "50000/50000 [==============================] - 6s 128us/sample - loss: 1.6860 - acc: 0.4014 - val_loss: 1.3267 - val_acc: 0.5208\n",
      "Epoch 2/20\n",
      "50000/50000 [==============================] - 6s 124us/sample - loss: 1.4763 - acc: 0.4731 - val_loss: 1.2550 - val_acc: 0.5539\n",
      "Epoch 3/20\n",
      "50000/50000 [==============================] - 6s 120us/sample - loss: 1.3991 - acc: 0.5038 - val_loss: 1.2141 - val_acc: 0.5661\n",
      "Epoch 4/20\n",
      "50000/50000 [==============================] - 6s 119us/sample - loss: 1.3507 - acc: 0.5240 - val_loss: 1.1649 - val_acc: 0.5882\n",
      "Epoch 5/20\n",
      "50000/50000 [==============================] - 6s 125us/sample - loss: 1.3183 - acc: 0.5322 - val_loss: 1.1335 - val_acc: 0.6000\n",
      "Epoch 6/20\n",
      "50000/50000 [==============================] - 6s 121us/sample - loss: 1.2965 - acc: 0.5401 - val_loss: 1.1246 - val_acc: 0.6012\n",
      "Epoch 7/20\n",
      "50000/50000 [==============================] - 6s 113us/sample - loss: 1.2711 - acc: 0.5517 - val_loss: 1.1147 - val_acc: 0.6059\n",
      "Epoch 8/20\n",
      "50000/50000 [==============================] - 7s 131us/sample - loss: 1.2536 - acc: 0.5560 - val_loss: 1.0920 - val_acc: 0.6142\n",
      "Epoch 9/20\n",
      "50000/50000 [==============================] - 6s 117us/sample - loss: 1.2392 - acc: 0.5608 - val_loss: 1.0819 - val_acc: 0.6227\n",
      "Epoch 10/20\n",
      "50000/50000 [==============================] - 6s 115us/sample - loss: 1.2221 - acc: 0.5689 - val_loss: 1.0857 - val_acc: 0.6201\n",
      "Epoch 11/20\n",
      "50000/50000 [==============================] - 6s 113us/sample - loss: 1.2122 - acc: 0.5749 - val_loss: 1.0596 - val_acc: 0.6263\n",
      "Epoch 12/20\n",
      "50000/50000 [==============================] - 6s 116us/sample - loss: 1.2016 - acc: 0.5768 - val_loss: 1.0701 - val_acc: 0.6244\n",
      "Epoch 13/20\n",
      "50000/50000 [==============================] - 6s 118us/sample - loss: 1.2024 - acc: 0.5772 - val_loss: 1.0635 - val_acc: 0.6274\n",
      "Epoch 14/20\n",
      "50000/50000 [==============================] - 6s 115us/sample - loss: 1.1910 - acc: 0.5811 - val_loss: 1.0466 - val_acc: 0.6334\n",
      "Epoch 15/20\n",
      "50000/50000 [==============================] - 6s 118us/sample - loss: 1.1787 - acc: 0.5851 - val_loss: 1.0410 - val_acc: 0.6338\n",
      "Epoch 16/20\n",
      "50000/50000 [==============================] - 6s 125us/sample - loss: 1.1771 - acc: 0.5848 - val_loss: 1.0442 - val_acc: 0.6382\n",
      "Epoch 17/20\n",
      "50000/50000 [==============================] - 6s 113us/sample - loss: 1.1749 - acc: 0.5870 - val_loss: 1.0478 - val_acc: 0.6386\n",
      "Epoch 18/20\n",
      "50000/50000 [==============================] - 6s 113us/sample - loss: 1.1593 - acc: 0.5914 - val_loss: 1.0279 - val_acc: 0.6409\n",
      "Epoch 19/20\n",
      "50000/50000 [==============================] - 6s 125us/sample - loss: 1.1588 - acc: 0.5930 - val_loss: 1.0223 - val_acc: 0.6431\n",
      "Epoch 20/20\n",
      "50000/50000 [==============================] - 6s 124us/sample - loss: 1.1501 - acc: 0.5952 - val_loss: 1.0210 - val_acc: 0.6423\n"
     ]
    }
   ],
   "source": [
    "cls_no_train_features = train_cls(False)"
   ]
  },
  {
   "cell_type": "code",
   "execution_count": 20,
   "metadata": {},
   "outputs": [
    {
     "data": {
      "image/png": "[encoded data removed]",
      "text/plain": [
       "<Figure size 432x288 with 1 Axes>"
      ]
     },
     "metadata": {
      "needs_background": "light"
     },
     "output_type": "display_data"
    }
   ],
   "source": [
    "plot_training(name = 'Train accuracy',\n",
    "              fine_tuning_accuracy = cls_train_features.history['acc'],\n",
    "              feature_extracting_accuracy = cls_no_train_features.history['acc'])"
   ]
  },
  {
   "cell_type": "code",
   "execution_count": 21,
   "metadata": {},
   "outputs": [
    {
     "data": {
      "image/png": "[encoded data removed]",
      "text/plain": [
       "<Figure size 432x288 with 1 Axes>"
      ]
     },
     "metadata": {
      "needs_background": "light"
     },
     "output_type": "display_data"
    }
   ],
   "source": [
    "plot_training(name = 'Validation accuracy',\n",
    "              fine_tuning_accuracy = cls_train_features.history['val_acc'],\n",
    "              feature_extracting_accuracy = cls_no_train_features.history['val_acc'])"
   ]
  },
  {
   "cell_type": "code",
   "execution_count": null,
   "metadata": {},
   "outputs": [],
   "source": []
  }
 ],
 "metadata": {
  "kernelspec": {
   "display_name": "Python 3",
   "language": "python",
   "name": "python3"
  },
  "language_info": {
   "codemirror_mode": {
    "name": "ipython",
    "version": 3
   },
   "file_extension": ".py",
   "mimetype": "text/x-python",
   "name": "python",
   "nbconvert_exporter": "python",
   "pygments_lexer": "ipython3",
   "version": "3.6.9"
  }
 },
 "nbformat": 4,
 "nbformat_minor": 2
}
